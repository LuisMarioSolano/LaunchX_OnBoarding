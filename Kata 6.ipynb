{
 "cells": [
  {
   "cell_type": "markdown",
   "id": "96ff3ef5",
   "metadata": {},
   "source": [
    "# Kata 6\n",
    "## Ejercicio 1: Crear y usar listas de Python\n",
    "\n",
    "En primer lugar, crea una variable denominada planets. Agrega los ocho planetas (sin Plutón) a la lista. A continuación, muestra el número de planetas."
   ]
  },
  {
   "cell_type": "code",
   "execution_count": 1,
   "id": "03d8be35",
   "metadata": {},
   "outputs": [],
   "source": [
    "planets = ['Mercurio','Venus','Tierra','Marte','Jupiter','Saturno','Urano','Nepturno']"
   ]
  },
  {
   "cell_type": "markdown",
   "id": "ea463324",
   "metadata": {},
   "source": [
    "Agrega a Plutón a la lista que creaste. Luego muestra tanto el número de planetas como el último planeta de la lista."
   ]
  },
  {
   "cell_type": "code",
   "execution_count": 2,
   "id": "859c7c06",
   "metadata": {},
   "outputs": [
    {
     "name": "stdout",
     "output_type": "stream",
     "text": [
      "El ultimo planeta es: Pluton\n"
     ]
    }
   ],
   "source": [
    "planets.append('Pluton')\n",
    "\n",
    "print(\"El ultimo planeta es:\",planets[-1])"
   ]
  },
  {
   "cell_type": "markdown",
   "id": "c357004c",
   "metadata": {},
   "source": [
    "## Ejercicio 2: Trabajando con datos de una lista\n",
    "Queremos mostrar planetas más cerca y más lejos del sol de un planeta que el usuario ingresa por teclado.\n",
    "\n",
    "Comienza agregando el código para crear una lista con los planetas."
   ]
  },
  {
   "cell_type": "code",
   "execution_count": 4,
   "id": "80540f2c",
   "metadata": {},
   "outputs": [
    {
     "name": "stdout",
     "output_type": "stream",
     "text": [
      "['Mercurio', 'Venus', 'Tierra', 'Marte', 'Jupiter', 'Saturno', 'Urano', 'Nepturno', 'Pluton']\n"
     ]
    }
   ],
   "source": [
    "print (planets)"
   ]
  },
  {
   "cell_type": "code",
   "execution_count": 6,
   "id": "8e11215d",
   "metadata": {},
   "outputs": [],
   "source": [
    "planets = ['Mercury', 'Venus', 'Earth', 'Mars', 'Jupiter', 'Saturn', 'Neptune']"
   ]
  },
  {
   "cell_type": "markdown",
   "id": "ec6c6f82",
   "metadata": {},
   "source": [
    "### Solicita al usuario el nombre del planeta \n",
    "A continuación, agrega el código para solicitar al usuario un nombre. Debido a que las cadenas distinguen entre mayúsculas y minúsculas en Python, pídale al usuario que use una letra mayúscula para comenzar el nombre del planeta."
   ]
  },
  {
   "cell_type": "code",
   "execution_count": 16,
   "id": "c0deda73",
   "metadata": {},
   "outputs": [
    {
     "name": "stdout",
     "output_type": "stream",
     "text": [
      "Ingresa el nombre de un planeta con la primera letra en mayuscula para conocer que tan cerca esta del sol: Earth\n"
     ]
    }
   ],
   "source": [
    "planeta = input (\"Ingresa el nombre de un planeta con la primera letra en mayuscula para conocer que tan cerca esta del sol: \")"
   ]
  },
  {
   "cell_type": "markdown",
   "id": "0e91993e",
   "metadata": {},
   "source": [
    "### Encuentra el planeta en la lista\n",
    "Para determinar qué planetas están más cerca que el que ingresó el usuario, debes encontrar dónde está el planeta en la lista. Puedes utilizar index para realizar esta operación. Agrega el código para encontrar el índice del planeta."
   ]
  },
  {
   "cell_type": "code",
   "execution_count": 17,
   "id": "b863b84a",
   "metadata": {},
   "outputs": [],
   "source": [
    "indice = planets.index(planeta)"
   ]
  },
  {
   "cell_type": "markdown",
   "id": "5ebe8f0e",
   "metadata": {},
   "source": [
    "### Mostrar planetas más cercanos y mas alejados al sol que el que el usuario ingresó\n",
    "Con el índice determinado, ahora puedes agregar el código para mostrar los planetas más cercanos al sol."
   ]
  },
  {
   "cell_type": "code",
   "execution_count": 21,
   "id": "c4bc86c5",
   "metadata": {},
   "outputs": [
    {
     "name": "stdout",
     "output_type": "stream",
     "text": [
      "Estos son los planeatas más cercanos al sol Earth\n",
      "['Mercury', 'Venus']\n",
      "\n",
      "Estos son los planeatas más lejanos al sol Earth\n",
      "['Mars', 'Jupiter', 'Saturn', 'Neptune']\n"
     ]
    }
   ],
   "source": [
    "print('Estos son los planeatas más cercanos al sol ' + planeta)\n",
    "print(planets[0:indice])\n",
    "\n",
    "print('\\nEstos son los planeatas más lejanos al sol ' + planeta)\n",
    "print(planets[indice+1:])"
   ]
  },
  {
   "cell_type": "code",
   "execution_count": null,
   "id": "1633cbaa",
   "metadata": {},
   "outputs": [],
   "source": []
  }
 ],
 "metadata": {
  "kernelspec": {
   "display_name": "Python 3 (ipykernel)",
   "language": "python",
   "name": "python3"
  },
  "language_info": {
   "codemirror_mode": {
    "name": "ipython",
    "version": 3
   },
   "file_extension": ".py",
   "mimetype": "text/x-python",
   "name": "python",
   "nbconvert_exporter": "python",
   "pygments_lexer": "ipython3",
   "version": "3.9.5"
  }
 },
 "nbformat": 4,
 "nbformat_minor": 5
}
