{
 "cells": [
  {
   "cell_type": "markdown",
   "id": "8cb193c7",
   "metadata": {},
   "source": [
    "# Kata 5\n",
    "\n",
    "## Ejercicio 1 - Utilizar operadores aritméticos\n",
    "\n",
    "Exploremos cómo podemos crear un programa que pueda calcular la distancia entre dos planetas. Comenzaremos usando dos distancias de planetas: Tierra (149.597.870 km) y Júpiter (778.547.200 km)."
   ]
  },
  {
   "cell_type": "code",
   "execution_count": 2,
   "id": "da03ae9d",
   "metadata": {},
   "outputs": [],
   "source": [
    "tierra = 149597870\n",
    "jupiter = 778547200"
   ]
  },
  {
   "cell_type": "markdown",
   "id": "8e5db4cc",
   "metadata": {},
   "source": [
    "### Operación \n",
    "Con los valores obtenidos, es el momento de añadir el código para realizar la operación. Restarás el primer planeta del segundo para determinar la distancia en kilómetros. A continuación, puedes convertir la distancia del kilómetro en millas multiplicándola por 0.621."
   ]
  },
  {
   "cell_type": "code",
   "execution_count": 9,
   "id": "4362eddd",
   "metadata": {},
   "outputs": [
    {
     "name": "stdout",
     "output_type": "stream",
     "text": [
      "La distancia en Km es: 628949330\n"
     ]
    }
   ],
   "source": [
    "distancia_km = jupiter - tierra\n",
    "print (\"La distancia en Km es:\",distancia_km)"
   ]
  },
  {
   "cell_type": "code",
   "execution_count": 10,
   "id": "4df17a1c",
   "metadata": {},
   "outputs": [
    {
     "name": "stdout",
     "output_type": "stream",
     "text": [
      "La distancia en Millas es: 390577533.93\n"
     ]
    }
   ],
   "source": [
    "distancia_mi = distancia_km * 0.621\n",
    "print (\"La distancia en Millas es:\",distancia_mi)"
   ]
  },
  {
   "cell_type": "markdown",
   "id": "e420b0a3",
   "metadata": {},
   "source": [
    "## Ejercicio 2 - Convierte cadenas en números y usa valores absolutos\n",
    "### Crear una aplicación para trabajar con números y entrada de usuario\n",
    "\n",
    "Para crear nuestra aplicación, queremos leer la distancia del sol para dos planetas, y luego mostrar la distancia entre los planetas. Haremos esto usando input para leer los valores, int para convertir a entero y luego abs para convertir el resultado en su valor absoluto.\n",
    "\n",
    "### Lee los valores"
   ]
  },
  {
   "cell_type": "code",
   "execution_count": 13,
   "id": "dafb539b",
   "metadata": {},
   "outputs": [
    {
     "name": "stdout",
     "output_type": "stream",
     "text": [
      "Introduzca la distancia del sol para el primer planeta en Km: 227900000\n",
      "Introduzca la distancia desde el sol para el segundo planeta en Km: 2872500000\n"
     ]
    }
   ],
   "source": [
    "planeta1 = input('Introduzca la distancia del sol para el primer planeta en Km: ')\n",
    "planeta2 = input('Introduzca la distancia desde el sol para el segundo planeta en Km: ')"
   ]
  },
  {
   "cell_type": "markdown",
   "id": "f24e8087",
   "metadata": {},
   "source": [
    "### Convertir a número"
   ]
  },
  {
   "cell_type": "code",
   "execution_count": 14,
   "id": "4977b26b",
   "metadata": {},
   "outputs": [],
   "source": [
    "planeta1 = int(planeta1)\n",
    "planeta2 = int(planeta2)"
   ]
  },
  {
   "cell_type": "markdown",
   "id": "52fb2602",
   "metadata": {},
   "source": [
    "### Realizar el cálculo y convertir a valor absoluto"
   ]
  },
  {
   "cell_type": "code",
   "execution_count": 19,
   "id": "1474e2ad",
   "metadata": {},
   "outputs": [
    {
     "name": "stdout",
     "output_type": "stream",
     "text": [
      "La distancia en Km es: 2644600000\n",
      "La distancia en Millas es: 1642296600.0\n"
     ]
    }
   ],
   "source": [
    "distancia_km = planeta2 - planeta1\n",
    "print(\"La distancia en Km es:\",distancia_km)\n",
    "\n",
    "distancia_mi = distancia_km * 0.621\n",
    "print(\"La distancia en Millas es:\",abs(distancia_mi))"
   ]
  },
  {
   "cell_type": "code",
   "execution_count": null,
   "id": "4c675943",
   "metadata": {},
   "outputs": [],
   "source": []
  }
 ],
 "metadata": {
  "kernelspec": {
   "display_name": "Python 3 (ipykernel)",
   "language": "python",
   "name": "python3"
  },
  "language_info": {
   "codemirror_mode": {
    "name": "ipython",
    "version": 3
   },
   "file_extension": ".py",
   "mimetype": "text/x-python",
   "name": "python",
   "nbconvert_exporter": "python",
   "pygments_lexer": "ipython3",
   "version": "3.9.5"
  }
 },
 "nbformat": 4,
 "nbformat_minor": 5
}
