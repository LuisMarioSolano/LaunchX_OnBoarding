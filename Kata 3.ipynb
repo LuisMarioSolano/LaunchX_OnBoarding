{
 "cells": [
  {
   "cell_type": "markdown",
   "id": "141761ef",
   "metadata": {},
   "source": [
    "# Kata 3\n",
    "## Uso de if, else, elif\n",
    "\n",
    "### Asteroide 1 \n",
    "Para este ejercicio, escribirás una lógica condicional que imprima una advertencia si un asteroide se acerca a la Tierra demasiado rápido. La velocidad del asteroide varía dependiendo de lo cerca que esté del sol, y cualquier velocidad superior a 25 kilómetros por segundo (km/s) merece una advertencia.\n",
    "\n",
    "Un asteroide se acerca, y viaja a una velocidad de 49 km/s."
   ]
  },
  {
   "cell_type": "code",
   "execution_count": 22,
   "id": "c876679a",
   "metadata": {},
   "outputs": [
    {
     "name": "stdout",
     "output_type": "stream",
     "text": [
      "¡Advertencia! Se acerca un asteroide demasiado rápido: 49 km/s\n"
     ]
    }
   ],
   "source": [
    "asteroide = 49\n",
    "if asteroide > 25:\n",
    "    print (\"¡Advertencia! Se acerca un asteroide demasiado rápido:\", asteroide,\"km/s\")\n",
    "else:\n",
    "    print (\"El asteroide no presenta algún peligro\")"
   ]
  },
  {
   "cell_type": "markdown",
   "id": "aaa5a9bc",
   "metadata": {},
   "source": [
    "### Asteroide 2 \n",
    "Si un asteroide entra en la atmósfera de la Tierra a una velocidad mayor o igual a 20 km/s, a veces produce un rayo de luz que se puede ver desde la Tierra. Escribe la lógica condicional que usa declaraciones `if`, `else`, y `elif` para alertar a las personas de todo el mundo que deben buscar un asteroide en el cielo. ¡Hay uno que se dirige a la tierra ahora a una velocidad de 19 km/s!"
   ]
  },
  {
   "cell_type": "code",
   "execution_count": 19,
   "id": "1b2901f5",
   "metadata": {},
   "outputs": [
    {
     "name": "stdout",
     "output_type": "stream",
     "text": [
      "No hay nada interesante\n"
     ]
    }
   ],
   "source": [
    "asteroide = 19\n",
    "if asteroide >= 20:\n",
    "    print (\"Hay un asteroide en el cielo búscalo\")\n",
    "else:\n",
    "    print (\"No hay nada interesante\")"
   ]
  },
  {
   "cell_type": "markdown",
   "id": "d7875032",
   "metadata": {},
   "source": [
    "### Asteroide 3\n",
    "*Los asteroides de menos de 25 metros en su dimensión más grande probablemente se quemarán a medida que entren en la atmósfera de la Tierra.\n",
    "\n",
    "Si una pieza de un asteroide que es más grande que 25 metros pero más pequeña que 1000 metros golpeara la Tierra, causaría mucho daño.\n",
    "También discutimos en el ejercicio anterior que:\n",
    "\n",
    "La velocidad del asteroide varía en función de lo cerca que esté del sol, y cualquier velocidad superior a 25 kilómetros por segundo (km/s) merece una advertencia.\n",
    "Si un asteroide entra en la atmósfera de la Tierra a una velocidad mayor o igual a 20 km/s, a veces produce un rayo de luz que se puede ver desde la Tierra.\n",
    "Usando toda esta información, escribe un programa que emita la advertencia o información correcta a la gente de la Tierra, según la velocidad y el tamaño de un asteroide. Utiliza instrucciones if, else, y elif, así como los operadores and y or."
   ]
  },
  {
   "cell_type": "code",
   "execution_count": 28,
   "id": "cfb45d7e",
   "metadata": {},
   "outputs": [
    {
     "name": "stdout",
     "output_type": "stream",
     "text": [
      "Hay una estrella fugaz en el cielo búscala y pide un deseo\n"
     ]
    }
   ],
   "source": [
    "tam_asteroide = 25\n",
    "vel_asteroide = 40\n",
    "\n",
    "if vel_asteroide > 25 and tam_asteroide > 25:\n",
    "    print(\"¡Advertencia! Se acerca un asteroide demasiado rápido:\", asteroide,\"km/s\")\n",
    "elif vel_asteroide >= 20:\n",
    "    print(\"Hay una estrella fugaz en el cielo búscala y pide un deseo\")\n",
    "elif tam_asteroide < 25:\n",
    "    print(\"No hay nada interesante\")\n",
    "else:\n",
    "    print(\"No hay nada interesante\")"
   ]
  },
  {
   "cell_type": "code",
   "execution_count": null,
   "id": "5d4a97c2",
   "metadata": {},
   "outputs": [],
   "source": []
  }
 ],
 "metadata": {
  "kernelspec": {
   "display_name": "Python 3 (ipykernel)",
   "language": "python",
   "name": "python3"
  },
  "language_info": {
   "codemirror_mode": {
    "name": "ipython",
    "version": 3
   },
   "file_extension": ".py",
   "mimetype": "text/x-python",
   "name": "python",
   "nbconvert_exporter": "python",
   "pygments_lexer": "ipython3",
   "version": "3.9.5"
  }
 },
 "nbformat": 4,
 "nbformat_minor": 5
}
